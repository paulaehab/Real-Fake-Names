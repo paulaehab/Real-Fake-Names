{
  "cells": [
    {
      "cell_type": "code",
      "execution_count": 1,
      "metadata": {
        "id": "TCTNVsKznmM_"
      },
      "outputs": [],
      "source": [
        "import pandas as pd \n",
        "import numpy as np \n",
        "from sklearn.model_selection import train_test_split\n",
        "\n",
        "from keras_preprocessing.sequence import pad_sequences\n",
        "from keras.models import Sequential\n",
        "from keras import layers\n",
        "from keras.preprocessing.text import Tokenizer\n",
        "from keras.layers import LSTM\n",
        "from keras.callbacks import EarlyStopping\n",
        "import keras\n",
        "import re"
      ]
    },
    {
      "cell_type": "code",
      "execution_count": 2,
      "metadata": {
        "colab": {
          "base_uri": "https://localhost:8080/",
          "height": 206
        },
        "id": "Eyfrx38AnuAV",
        "outputId": "f94dd327-7e1f-4f77-904f-93b63feac06b"
      },
      "outputs": [
        {
          "data": {
            "text/html": [
              "\n",
              "  <div id=\"df-a8f95ea5-88c2-42b6-9656-a07944019676\">\n",
              "    <div class=\"colab-df-container\">\n",
              "      <div>\n",
              "<style scoped>\n",
              "    .dataframe tbody tr th:only-of-type {\n",
              "        vertical-align: middle;\n",
              "    }\n",
              "\n",
              "    .dataframe tbody tr th {\n",
              "        vertical-align: top;\n",
              "    }\n",
              "\n",
              "    .dataframe thead th {\n",
              "        text-align: right;\n",
              "    }\n",
              "</style>\n",
              "<table border=\"1\" class=\"dataframe\">\n",
              "  <thead>\n",
              "    <tr style=\"text-align: right;\">\n",
              "      <th></th>\n",
              "      <th>Unnamed: 0</th>\n",
              "      <th>Unnamed: 0.1</th>\n",
              "      <th>name</th>\n",
              "      <th>status</th>\n",
              "    </tr>\n",
              "  </thead>\n",
              "  <tbody>\n",
              "    <tr>\n",
              "      <th>0</th>\n",
              "      <td>0</td>\n",
              "      <td>118425</td>\n",
              "      <td>أسارير اعتماد رصينة</td>\n",
              "      <td>0.0</td>\n",
              "    </tr>\n",
              "    <tr>\n",
              "      <th>1</th>\n",
              "      <td>1</td>\n",
              "      <td>109231</td>\n",
              "      <td>سامح مزتور شروق</td>\n",
              "      <td>0.0</td>\n",
              "    </tr>\n",
              "    <tr>\n",
              "      <th>2</th>\n",
              "      <td>2</td>\n",
              "      <td>167416</td>\n",
              "      <td>سصر مصطفى أغاريد</td>\n",
              "      <td>0.0</td>\n",
              "    </tr>\n",
              "    <tr>\n",
              "      <th>3</th>\n",
              "      <td>3</td>\n",
              "      <td>59137</td>\n",
              "      <td>أمينة رمزي مدلج</td>\n",
              "      <td>1.0</td>\n",
              "    </tr>\n",
              "    <tr>\n",
              "      <th>4</th>\n",
              "      <td>4</td>\n",
              "      <td>132777</td>\n",
              "      <td>عبدالمغعم فائقة رائد</td>\n",
              "      <td>0.0</td>\n",
              "    </tr>\n",
              "  </tbody>\n",
              "</table>\n",
              "</div>\n",
              "      <button class=\"colab-df-convert\" onclick=\"convertToInteractive('df-a8f95ea5-88c2-42b6-9656-a07944019676')\"\n",
              "              title=\"Convert this dataframe to an interactive table.\"\n",
              "              style=\"display:none;\">\n",
              "        \n",
              "  <svg xmlns=\"http://www.w3.org/2000/svg\" height=\"24px\"viewBox=\"0 0 24 24\"\n",
              "       width=\"24px\">\n",
              "    <path d=\"M0 0h24v24H0V0z\" fill=\"none\"/>\n",
              "    <path d=\"M18.56 5.44l.94 2.06.94-2.06 2.06-.94-2.06-.94-.94-2.06-.94 2.06-2.06.94zm-11 1L8.5 8.5l.94-2.06 2.06-.94-2.06-.94L8.5 2.5l-.94 2.06-2.06.94zm10 10l.94 2.06.94-2.06 2.06-.94-2.06-.94-.94-2.06-.94 2.06-2.06.94z\"/><path d=\"M17.41 7.96l-1.37-1.37c-.4-.4-.92-.59-1.43-.59-.52 0-1.04.2-1.43.59L10.3 9.45l-7.72 7.72c-.78.78-.78 2.05 0 2.83L4 21.41c.39.39.9.59 1.41.59.51 0 1.02-.2 1.41-.59l7.78-7.78 2.81-2.81c.8-.78.8-2.07 0-2.86zM5.41 20L4 18.59l7.72-7.72 1.47 1.35L5.41 20z\"/>\n",
              "  </svg>\n",
              "      </button>\n",
              "      \n",
              "  <style>\n",
              "    .colab-df-container {\n",
              "      display:flex;\n",
              "      flex-wrap:wrap;\n",
              "      gap: 12px;\n",
              "    }\n",
              "\n",
              "    .colab-df-convert {\n",
              "      background-color: #E8F0FE;\n",
              "      border: none;\n",
              "      border-radius: 50%;\n",
              "      cursor: pointer;\n",
              "      display: none;\n",
              "      fill: #1967D2;\n",
              "      height: 32px;\n",
              "      padding: 0 0 0 0;\n",
              "      width: 32px;\n",
              "    }\n",
              "\n",
              "    .colab-df-convert:hover {\n",
              "      background-color: #E2EBFA;\n",
              "      box-shadow: 0px 1px 2px rgba(60, 64, 67, 0.3), 0px 1px 3px 1px rgba(60, 64, 67, 0.15);\n",
              "      fill: #174EA6;\n",
              "    }\n",
              "\n",
              "    [theme=dark] .colab-df-convert {\n",
              "      background-color: #3B4455;\n",
              "      fill: #D2E3FC;\n",
              "    }\n",
              "\n",
              "    [theme=dark] .colab-df-convert:hover {\n",
              "      background-color: #434B5C;\n",
              "      box-shadow: 0px 1px 3px 1px rgba(0, 0, 0, 0.15);\n",
              "      filter: drop-shadow(0px 1px 2px rgba(0, 0, 0, 0.3));\n",
              "      fill: #FFFFFF;\n",
              "    }\n",
              "  </style>\n",
              "\n",
              "      <script>\n",
              "        const buttonEl =\n",
              "          document.querySelector('#df-a8f95ea5-88c2-42b6-9656-a07944019676 button.colab-df-convert');\n",
              "        buttonEl.style.display =\n",
              "          google.colab.kernel.accessAllowed ? 'block' : 'none';\n",
              "\n",
              "        async function convertToInteractive(key) {\n",
              "          const element = document.querySelector('#df-a8f95ea5-88c2-42b6-9656-a07944019676');\n",
              "          const dataTable =\n",
              "            await google.colab.kernel.invokeFunction('convertToInteractive',\n",
              "                                                     [key], {});\n",
              "          if (!dataTable) return;\n",
              "\n",
              "          const docLinkHtml = 'Like what you see? Visit the ' +\n",
              "            '<a target=\"_blank\" href=https://colab.research.google.com/notebooks/data_table.ipynb>data table notebook</a>'\n",
              "            + ' to learn more about interactive tables.';\n",
              "          element.innerHTML = '';\n",
              "          dataTable['output_type'] = 'display_data';\n",
              "          await google.colab.output.renderOutput(dataTable, element);\n",
              "          const docLink = document.createElement('div');\n",
              "          docLink.innerHTML = docLinkHtml;\n",
              "          element.appendChild(docLink);\n",
              "        }\n",
              "      </script>\n",
              "    </div>\n",
              "  </div>\n",
              "  "
            ],
            "text/plain": [
              "   Unnamed: 0  Unnamed: 0.1                  name  status\n",
              "0           0        118425   أسارير اعتماد رصينة     0.0\n",
              "1           1        109231       سامح مزتور شروق     0.0\n",
              "2           2        167416      سصر مصطفى أغاريد     0.0\n",
              "3           3         59137       أمينة رمزي مدلج     1.0\n",
              "4           4        132777  عبدالمغعم فائقة رائد     0.0"
            ]
          },
          "execution_count": 2,
          "metadata": {},
          "output_type": "execute_result"
        }
      ],
      "source": [
        "data = pd.read_csv('../Data/final_names.csv')\n",
        "data.head()"
      ]
    },
    {
      "cell_type": "code",
      "execution_count": 3,
      "metadata": {
        "colab": {
          "base_uri": "https://localhost:8080/"
        },
        "id": "Aw7D4YoCnvar",
        "outputId": "d9fdaac1-85b5-4fff-a660-b8ed5e5eb654"
      },
      "outputs": [
        {
          "data": {
            "text/plain": [
              "(197626, 4)"
            ]
          },
          "execution_count": 3,
          "metadata": {},
          "output_type": "execute_result"
        }
      ],
      "source": [
        "data.shape"
      ]
    },
    {
      "cell_type": "code",
      "execution_count": 4,
      "metadata": {
        "id": "LJzPYTSVnw9C"
      },
      "outputs": [],
      "source": [
        "# import re \n",
        "def normalize_arabic(text):\n",
        "    text = re.sub(\"[إأآا]\", \"ا\", text)\n",
        "    text = re.sub(\"ى\", \"ي\", text)\n",
        "    text = re.sub(\"ة\", \"ه\", text)\n",
        "    text = re.sub(\"گ\", \"ك\", text)\n",
        "    return text"
      ]
    },
    {
      "cell_type": "code",
      "execution_count": 5,
      "metadata": {
        "id": "WjCCsxjIov9w"
      },
      "outputs": [],
      "source": [
        "data['name'] = data['name'].apply(lambda x:normalize_arabic(x) )"
      ]
    },
    {
      "cell_type": "code",
      "execution_count": 6,
      "metadata": {
        "colab": {
          "base_uri": "https://localhost:8080/",
          "height": 206
        },
        "id": "hFUxth_MpP1y",
        "outputId": "0f3a1009-f800-4d8b-9038-cd396079c142"
      },
      "outputs": [
        {
          "data": {
            "text/html": [
              "\n",
              "  <div id=\"df-0fd9afdc-9f4f-4f4b-8b3e-03338f39ddce\">\n",
              "    <div class=\"colab-df-container\">\n",
              "      <div>\n",
              "<style scoped>\n",
              "    .dataframe tbody tr th:only-of-type {\n",
              "        vertical-align: middle;\n",
              "    }\n",
              "\n",
              "    .dataframe tbody tr th {\n",
              "        vertical-align: top;\n",
              "    }\n",
              "\n",
              "    .dataframe thead th {\n",
              "        text-align: right;\n",
              "    }\n",
              "</style>\n",
              "<table border=\"1\" class=\"dataframe\">\n",
              "  <thead>\n",
              "    <tr style=\"text-align: right;\">\n",
              "      <th></th>\n",
              "      <th>Unnamed: 0</th>\n",
              "      <th>Unnamed: 0.1</th>\n",
              "      <th>name</th>\n",
              "      <th>status</th>\n",
              "    </tr>\n",
              "  </thead>\n",
              "  <tbody>\n",
              "    <tr>\n",
              "      <th>0</th>\n",
              "      <td>0</td>\n",
              "      <td>118425</td>\n",
              "      <td>اسارير اعتماد رصينه</td>\n",
              "      <td>0.0</td>\n",
              "    </tr>\n",
              "    <tr>\n",
              "      <th>1</th>\n",
              "      <td>1</td>\n",
              "      <td>109231</td>\n",
              "      <td>سامح مزتور شروق</td>\n",
              "      <td>0.0</td>\n",
              "    </tr>\n",
              "    <tr>\n",
              "      <th>2</th>\n",
              "      <td>2</td>\n",
              "      <td>167416</td>\n",
              "      <td>سصر مصطفي اغاريد</td>\n",
              "      <td>0.0</td>\n",
              "    </tr>\n",
              "    <tr>\n",
              "      <th>3</th>\n",
              "      <td>3</td>\n",
              "      <td>59137</td>\n",
              "      <td>امينه رمزي مدلج</td>\n",
              "      <td>1.0</td>\n",
              "    </tr>\n",
              "    <tr>\n",
              "      <th>4</th>\n",
              "      <td>4</td>\n",
              "      <td>132777</td>\n",
              "      <td>عبدالمغعم فائقه رائد</td>\n",
              "      <td>0.0</td>\n",
              "    </tr>\n",
              "  </tbody>\n",
              "</table>\n",
              "</div>\n",
              "      <button class=\"colab-df-convert\" onclick=\"convertToInteractive('df-0fd9afdc-9f4f-4f4b-8b3e-03338f39ddce')\"\n",
              "              title=\"Convert this dataframe to an interactive table.\"\n",
              "              style=\"display:none;\">\n",
              "        \n",
              "  <svg xmlns=\"http://www.w3.org/2000/svg\" height=\"24px\"viewBox=\"0 0 24 24\"\n",
              "       width=\"24px\">\n",
              "    <path d=\"M0 0h24v24H0V0z\" fill=\"none\"/>\n",
              "    <path d=\"M18.56 5.44l.94 2.06.94-2.06 2.06-.94-2.06-.94-.94-2.06-.94 2.06-2.06.94zm-11 1L8.5 8.5l.94-2.06 2.06-.94-2.06-.94L8.5 2.5l-.94 2.06-2.06.94zm10 10l.94 2.06.94-2.06 2.06-.94-2.06-.94-.94-2.06-.94 2.06-2.06.94z\"/><path d=\"M17.41 7.96l-1.37-1.37c-.4-.4-.92-.59-1.43-.59-.52 0-1.04.2-1.43.59L10.3 9.45l-7.72 7.72c-.78.78-.78 2.05 0 2.83L4 21.41c.39.39.9.59 1.41.59.51 0 1.02-.2 1.41-.59l7.78-7.78 2.81-2.81c.8-.78.8-2.07 0-2.86zM5.41 20L4 18.59l7.72-7.72 1.47 1.35L5.41 20z\"/>\n",
              "  </svg>\n",
              "      </button>\n",
              "      \n",
              "  <style>\n",
              "    .colab-df-container {\n",
              "      display:flex;\n",
              "      flex-wrap:wrap;\n",
              "      gap: 12px;\n",
              "    }\n",
              "\n",
              "    .colab-df-convert {\n",
              "      background-color: #E8F0FE;\n",
              "      border: none;\n",
              "      border-radius: 50%;\n",
              "      cursor: pointer;\n",
              "      display: none;\n",
              "      fill: #1967D2;\n",
              "      height: 32px;\n",
              "      padding: 0 0 0 0;\n",
              "      width: 32px;\n",
              "    }\n",
              "\n",
              "    .colab-df-convert:hover {\n",
              "      background-color: #E2EBFA;\n",
              "      box-shadow: 0px 1px 2px rgba(60, 64, 67, 0.3), 0px 1px 3px 1px rgba(60, 64, 67, 0.15);\n",
              "      fill: #174EA6;\n",
              "    }\n",
              "\n",
              "    [theme=dark] .colab-df-convert {\n",
              "      background-color: #3B4455;\n",
              "      fill: #D2E3FC;\n",
              "    }\n",
              "\n",
              "    [theme=dark] .colab-df-convert:hover {\n",
              "      background-color: #434B5C;\n",
              "      box-shadow: 0px 1px 3px 1px rgba(0, 0, 0, 0.15);\n",
              "      filter: drop-shadow(0px 1px 2px rgba(0, 0, 0, 0.3));\n",
              "      fill: #FFFFFF;\n",
              "    }\n",
              "  </style>\n",
              "\n",
              "      <script>\n",
              "        const buttonEl =\n",
              "          document.querySelector('#df-0fd9afdc-9f4f-4f4b-8b3e-03338f39ddce button.colab-df-convert');\n",
              "        buttonEl.style.display =\n",
              "          google.colab.kernel.accessAllowed ? 'block' : 'none';\n",
              "\n",
              "        async function convertToInteractive(key) {\n",
              "          const element = document.querySelector('#df-0fd9afdc-9f4f-4f4b-8b3e-03338f39ddce');\n",
              "          const dataTable =\n",
              "            await google.colab.kernel.invokeFunction('convertToInteractive',\n",
              "                                                     [key], {});\n",
              "          if (!dataTable) return;\n",
              "\n",
              "          const docLinkHtml = 'Like what you see? Visit the ' +\n",
              "            '<a target=\"_blank\" href=https://colab.research.google.com/notebooks/data_table.ipynb>data table notebook</a>'\n",
              "            + ' to learn more about interactive tables.';\n",
              "          element.innerHTML = '';\n",
              "          dataTable['output_type'] = 'display_data';\n",
              "          await google.colab.output.renderOutput(dataTable, element);\n",
              "          const docLink = document.createElement('div');\n",
              "          docLink.innerHTML = docLinkHtml;\n",
              "          element.appendChild(docLink);\n",
              "        }\n",
              "      </script>\n",
              "    </div>\n",
              "  </div>\n",
              "  "
            ],
            "text/plain": [
              "   Unnamed: 0  Unnamed: 0.1                  name  status\n",
              "0           0        118425   اسارير اعتماد رصينه     0.0\n",
              "1           1        109231       سامح مزتور شروق     0.0\n",
              "2           2        167416      سصر مصطفي اغاريد     0.0\n",
              "3           3         59137       امينه رمزي مدلج     1.0\n",
              "4           4        132777  عبدالمغعم فائقه رائد     0.0"
            ]
          },
          "execution_count": 6,
          "metadata": {},
          "output_type": "execute_result"
        }
      ],
      "source": [
        "data.head()"
      ]
    },
    {
      "cell_type": "code",
      "execution_count": 7,
      "metadata": {
        "id": "DxOcf6NGpR7a"
      },
      "outputs": [],
      "source": [
        "x= data['name']\n",
        "y=data['status']\n",
        "X_train, X_test, y_train, y_test = train_test_split(x, y, test_size=0.15, random_state=1000)"
      ]
    },
    {
      "cell_type": "code",
      "execution_count": 8,
      "metadata": {
        "id": "o6phu2HrpXX9"
      },
      "outputs": [],
      "source": [
        "tok = Tokenizer(oov_token=\"<OOV>\")\n",
        "#fit the data on the text\n",
        "tok.fit_on_texts(x)\n",
        "# Tokenize the data \n",
        "X_train_tokenized = tok.texts_to_sequences(X_train)\n",
        "X_test_tokenized = tok.texts_to_sequences(X_test)\n",
        "# add one for the oov token \n",
        "vocab_size = len(tok.word_index) + 1  \n",
        "\n",
        "max_len = 3\n",
        "embdding_dim=20"
      ]
    },
    {
      "cell_type": "code",
      "execution_count": 9,
      "metadata": {
        "id": "SQHXlc3qpcEr"
      },
      "outputs": [],
      "source": [
        "X_train = pad_sequences(X_train_tokenized, padding='post',maxlen=max_len,truncating='post')\n",
        "X_test = pad_sequences(X_test_tokenized, padding='post', maxlen=max_len,truncating='post')"
      ]
    },
    {
      "cell_type": "code",
      "execution_count": 10,
      "metadata": {
        "colab": {
          "base_uri": "https://localhost:8080/"
        },
        "id": "Dx-0dhaTpeRj",
        "outputId": "be672e96-40f1-48ff-cd2d-0145aa6ca62c"
      },
      "outputs": [
        {
          "name": "stderr",
          "output_type": "stream",
          "text": [
            "WARNING:tensorflow:Layer lstm will not use cuDNN kernels since it doesn't meet the criteria. It will use a generic GPU kernel as fallback when running on GPU.\n"
          ]
        }
      ],
      "source": [
        "dropout=0.4\n",
        "model = Sequential()\n",
        "model.add(layers.Embedding(input_dim=vocab_size,output_dim=embdding_dim,input_length=max_len))\n",
        "model.add(LSTM(128, activation='relu'))\n",
        "model.add(layers.Flatten())\n",
        "model.add(layers.Dense(64, activation='relu'))\n",
        "model.add(layers.Dropout(dropout))\n",
        "model.add(layers.Dense(32, activation='relu'))\n",
        "model.add(layers.Dense(1, activation='sigmoid'))"
      ]
    },
    {
      "cell_type": "code",
      "execution_count": 11,
      "metadata": {
        "colab": {
          "base_uri": "https://localhost:8080/"
        },
        "id": "dIq3s4KjpgjI",
        "outputId": "57abff46-819a-4ac0-fad0-f0e7fd3a0bd9"
      },
      "outputs": [
        {
          "name": "stdout",
          "output_type": "stream",
          "text": [
            "Model: \"sequential\"\n",
            "_________________________________________________________________\n",
            " Layer (type)                Output Shape              Param #   \n",
            "=================================================================\n",
            " embedding (Embedding)       (None, 3, 20)             806900    \n",
            "                                                                 \n",
            " lstm (LSTM)                 (None, 128)               76288     \n",
            "                                                                 \n",
            " flatten (Flatten)           (None, 128)               0         \n",
            "                                                                 \n",
            " dense (Dense)               (None, 64)                8256      \n",
            "                                                                 \n",
            " dropout (Dropout)           (None, 64)                0         \n",
            "                                                                 \n",
            " dense_1 (Dense)             (None, 32)                2080      \n",
            "                                                                 \n",
            " dense_2 (Dense)             (None, 1)                 33        \n",
            "                                                                 \n",
            "=================================================================\n",
            "Total params: 893,557\n",
            "Trainable params: 893,557\n",
            "Non-trainable params: 0\n",
            "_________________________________________________________________\n"
          ]
        }
      ],
      "source": [
        "model.summary()"
      ]
    },
    {
      "cell_type": "code",
      "execution_count": 12,
      "metadata": {
        "id": "UIL86euMpicV"
      },
      "outputs": [],
      "source": [
        "model_checkpoint_callback = keras.callbacks.ModelCheckpoint(\n",
        "    save_weights_only=False,\n",
        "    monitor='val_loss',\n",
        "    save_best_only=True,\n",
        "    filepath= 'model.h5')\n",
        "\n",
        "model.compile(optimizer='adam',\n",
        "              loss='binary_crossentropy',\n",
        "              metrics=['accuracy'])\n"
      ]
    },
    {
      "cell_type": "code",
      "execution_count": 13,
      "metadata": {
        "colab": {
          "base_uri": "https://localhost:8080/"
        },
        "id": "zNQ9K3mYplaE",
        "outputId": "1da7b8f5-09b9-4294-c045-cca1c5ab6f56"
      },
      "outputs": [
        {
          "name": "stdout",
          "output_type": "stream",
          "text": [
            "Epoch 1/20\n",
            "5250/5250 [==============================] - 75s 13ms/step - loss: 0.1779 - accuracy: 0.9306 - val_loss: 0.1170 - val_accuracy: 0.9573\n",
            "Epoch 2/20\n",
            "5250/5250 [==============================] - 69s 13ms/step - loss: 0.1110 - accuracy: 0.9566 - val_loss: 0.1151 - val_accuracy: 0.9546\n",
            "Epoch 3/20\n",
            "5250/5250 [==============================] - 67s 13ms/step - loss: 0.0996 - accuracy: 0.9575 - val_loss: 0.1105 - val_accuracy: 0.9564\n",
            "Epoch 4/20\n",
            "5250/5250 [==============================] - 66s 13ms/step - loss: 0.0948 - accuracy: 0.9579 - val_loss: 0.1381 - val_accuracy: 0.9480\n",
            "Epoch 5/20\n",
            "5250/5250 [==============================] - 67s 13ms/step - loss: 0.0922 - accuracy: 0.9579 - val_loss: 0.1148 - val_accuracy: 0.9551\n",
            "Epoch 6/20\n",
            "5250/5250 [==============================] - 65s 12ms/step - loss: 0.0892 - accuracy: 0.9584 - val_loss: 0.1350 - val_accuracy: 0.9488\n",
            "Epoch 7/20\n",
            "5250/5250 [==============================] - 65s 12ms/step - loss: 0.0873 - accuracy: 0.9586 - val_loss: 0.1582 - val_accuracy: 0.9416\n",
            "Epoch 8/20\n",
            "5250/5250 [==============================] - 64s 12ms/step - loss: 0.0848 - accuracy: 0.9588 - val_loss: 0.1596 - val_accuracy: 0.9451\n",
            "Epoch 9/20\n",
            "5250/5250 [==============================] - 64s 12ms/step - loss: 0.0829 - accuracy: 0.9588 - val_loss: 0.2102 - val_accuracy: 0.9376\n",
            "Epoch 10/20\n",
            "5250/5250 [==============================] - 65s 12ms/step - loss: 0.0811 - accuracy: 0.9593 - val_loss: 0.2101 - val_accuracy: 0.9317\n",
            "Epoch 11/20\n",
            "5250/5250 [==============================] - 64s 12ms/step - loss: 0.0791 - accuracy: 0.9595 - val_loss: 0.2047 - val_accuracy: 0.9406\n",
            "Epoch 12/20\n",
            "5250/5250 [==============================] - 65s 12ms/step - loss: 0.0769 - accuracy: 0.9603 - val_loss: 0.2396 - val_accuracy: 0.9395\n",
            "Epoch 13/20\n",
            "5250/5250 [==============================] - 64s 12ms/step - loss: 0.0749 - accuracy: 0.9608 - val_loss: 0.2250 - val_accuracy: 0.9393\n",
            "Epoch 14/20\n",
            "5250/5250 [==============================] - 67s 13ms/step - loss: 0.0730 - accuracy: 0.9617 - val_loss: 0.1837 - val_accuracy: 0.9424\n",
            "Epoch 15/20\n",
            "5250/5250 [==============================] - 65s 12ms/step - loss: 0.0708 - accuracy: 0.9624 - val_loss: 0.2464 - val_accuracy: 0.9377\n",
            "Epoch 16/20\n",
            "5250/5250 [==============================] - 65s 12ms/step - loss: 0.0688 - accuracy: 0.9633 - val_loss: 0.2257 - val_accuracy: 0.9401\n",
            "Epoch 17/20\n",
            "5250/5250 [==============================] - 65s 12ms/step - loss: 0.0663 - accuracy: 0.9646 - val_loss: 0.3148 - val_accuracy: 0.9375\n",
            "Epoch 18/20\n",
            "5250/5250 [==============================] - 64s 12ms/step - loss: 0.0643 - accuracy: 0.9653 - val_loss: 0.2730 - val_accuracy: 0.9364\n",
            "Epoch 19/20\n",
            "5250/5250 [==============================] - 65s 12ms/step - loss: 0.0620 - accuracy: 0.9668 - val_loss: 0.3484 - val_accuracy: 0.9332\n",
            "Epoch 20/20\n",
            "5250/5250 [==============================] - 64s 12ms/step - loss: 0.0600 - accuracy: 0.9680 - val_loss: 0.4063 - val_accuracy: 0.9272\n",
            "Training Accuracy: 0.9723\n",
            "Testing Accuracy:  0.9272\n"
          ]
        }
      ],
      "source": [
        "history = model.fit(X_train, y_train,\n",
        "                    epochs=20,\n",
        "                    validation_data=(X_test, y_test),\n",
        "                    batch_size=64,\n",
        "                    callbacks=[model_checkpoint_callback])\n",
        "loss, accuracy = model.evaluate(X_train, y_train, verbose=False)\n",
        "print(\"Training Accuracy: {:.4f}\".format(accuracy))\n",
        "loss, accuracy = model.evaluate(X_test, y_test, verbose=False)\n",
        "print(\"Testing Accuracy:  {:.4f}\".format(accuracy))"
      ]
    },
    {
      "cell_type": "code",
      "execution_count": 14,
      "metadata": {
        "colab": {
          "base_uri": "https://localhost:8080/"
        },
        "id": "4CjKnQ4Fpodh",
        "outputId": "d7fb21a1-5a9c-4ebd-e425-a575647ebf99"
      },
      "outputs": [
        {
          "data": {
            "text/plain": [
              "array([[578,   1, 328]], dtype=int32)"
            ]
          },
          "execution_count": 14,
          "metadata": {},
          "output_type": "execute_result"
        }
      ],
      "source": [
        "name = ['ياسمين أحمد محمود']\n",
        "one = tok.texts_to_sequences(name)\n",
        "y = pad_sequences(one, padding='post',maxlen=3,truncating='post')\n",
        "y"
      ]
    },
    {
      "cell_type": "code",
      "execution_count": 15,
      "metadata": {
        "id": "Ed7yo6-Vpv4S"
      },
      "outputs": [],
      "source": [
        "import pickle\n",
        "\n",
        "# saving\n",
        "with open('normalized_tokenizer.pickle', 'wb') as handle:\n",
        "    pickle.dump(tok, handle)"
      ]
    },
    {
      "cell_type": "code",
      "execution_count": 16,
      "metadata": {
        "id": "UX8Xg6lopzJ0"
      },
      "outputs": [],
      "source": [
        "model.save('normalized_model.h5')"
      ]
    },
    {
      "cell_type": "code",
      "execution_count": 17,
      "metadata": {
        "id": "acKwfV8pp6-w"
      },
      "outputs": [],
      "source": [
        "# loading\n",
        "with open('normalized_tokenizer.pickle', 'rb') as handle:\n",
        "    tokenizer_1 = pickle.load(handle)"
      ]
    },
    {
      "cell_type": "code",
      "execution_count": 18,
      "metadata": {
        "colab": {
          "base_uri": "https://localhost:8080/"
        },
        "id": "P-9fO4axp9BR",
        "outputId": "d5133b78-ca24-4a99-d03b-7afadabe0eab"
      },
      "outputs": [
        {
          "name": "stderr",
          "output_type": "stream",
          "text": [
            "WARNING:tensorflow:Layer lstm will not use cuDNN kernels since it doesn't meet the criteria. It will use a generic GPU kernel as fallback when running on GPU.\n"
          ]
        }
      ],
      "source": [
        "my_model = keras.models.load_model('normalized_model.h5')"
      ]
    },
    {
      "cell_type": "code",
      "execution_count": 19,
      "metadata": {
        "colab": {
          "base_uri": "https://localhost:8080/"
        },
        "id": "J7gk2lJmqBQv",
        "outputId": "f34236be-b940-460c-ffd5-51efa84f20a1"
      },
      "outputs": [
        {
          "data": {
            "text/plain": [
              "array([[578, 177, 328]], dtype=int32)"
            ]
          },
          "execution_count": 19,
          "metadata": {},
          "output_type": "execute_result"
        }
      ],
      "source": [
        "testing = ['ياسمين احمد محمود']\n",
        "test1= tokenizer_1.texts_to_sequences(testing)\n",
        "test = pad_sequences(test1, padding='post',maxlen=3,truncating='post')\n",
        "test"
      ]
    },
    {
      "cell_type": "code",
      "execution_count": 20,
      "metadata": {
        "colab": {
          "base_uri": "https://localhost:8080/"
        },
        "id": "N6eLfxSEt1lq",
        "outputId": "92b9779d-457b-4a74-eee5-158d88d1a960"
      },
      "outputs": [
        {
          "name": "stdout",
          "output_type": "stream",
          "text": [
            "1/1 [==============================] - 0s 180ms/step\n"
          ]
        },
        {
          "data": {
            "text/plain": [
              "array([[0.60952985]], dtype=float32)"
            ]
          },
          "execution_count": 20,
          "metadata": {},
          "output_type": "execute_result"
        }
      ],
      "source": [
        "my_model.predict(test)"
      ]
    },
    {
      "cell_type": "code",
      "execution_count": 20,
      "metadata": {
        "id": "0NdaDCI_uRqM"
      },
      "outputs": [],
      "source": []
    }
  ],
  "metadata": {
    "accelerator": "GPU",
    "colab": {
      "provenance": []
    },
    "gpuClass": "standard",
    "kernelspec": {
      "display_name": "Python 3.8.0 64-bit",
      "language": "python",
      "name": "python3"
    },
    "language_info": {
      "name": "python",
      "version": "3.8.0"
    },
    "vscode": {
      "interpreter": {
        "hash": "be6b9f10d78d9b557738f314303d3c0771f26fc553d4c00ecc19976a1c147bdb"
      }
    }
  },
  "nbformat": 4,
  "nbformat_minor": 0
}
