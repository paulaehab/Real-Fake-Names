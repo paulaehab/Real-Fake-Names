{
  "cells": [
    {
      "cell_type": "code",
      "execution_count": 5,
      "metadata": {
        "id": "vU7ZKWUc7XLV"
      },
      "outputs": [],
      "source": [
        "import pandas as pd \n",
        "import numpy as np \n",
        "from sklearn.model_selection import train_test_split\n",
        "\n",
        "from keras_preprocessing.sequence import pad_sequences\n",
        "from keras.models import Sequential\n",
        "from keras import layers\n",
        "from keras.preprocessing.text import Tokenizer\n",
        "from keras.layers import LSTM\n",
        "from keras.callbacks import EarlyStopping\n",
        "import keras"
      ]
    },
    {
      "cell_type": "code",
      "execution_count": 6,
      "metadata": {
        "colab": {
          "base_uri": "https://localhost:8080/",
          "height": 206
        },
        "id": "364FMyRE7wq0",
        "outputId": "38e329d0-c7d7-418c-d10c-f47c39707bc3"
      },
      "outputs": [
        {
          "data": {
            "text/html": [
              "\n",
              "  <div id=\"df-bb6d8212-e8c7-4bdb-9b3f-26717837c573\">\n",
              "    <div class=\"colab-df-container\">\n",
              "      <div>\n",
              "<style scoped>\n",
              "    .dataframe tbody tr th:only-of-type {\n",
              "        vertical-align: middle;\n",
              "    }\n",
              "\n",
              "    .dataframe tbody tr th {\n",
              "        vertical-align: top;\n",
              "    }\n",
              "\n",
              "    .dataframe thead th {\n",
              "        text-align: right;\n",
              "    }\n",
              "</style>\n",
              "<table border=\"1\" class=\"dataframe\">\n",
              "  <thead>\n",
              "    <tr style=\"text-align: right;\">\n",
              "      <th></th>\n",
              "      <th>Unnamed: 0</th>\n",
              "      <th>name</th>\n",
              "      <th>status</th>\n",
              "    </tr>\n",
              "  </thead>\n",
              "  <tbody>\n",
              "    <tr>\n",
              "      <th>0</th>\n",
              "      <td>118425</td>\n",
              "      <td>أسارير اعتماد رصينة</td>\n",
              "      <td>0.0</td>\n",
              "    </tr>\n",
              "    <tr>\n",
              "      <th>1</th>\n",
              "      <td>109231</td>\n",
              "      <td>سامح مزتور شروق</td>\n",
              "      <td>0.0</td>\n",
              "    </tr>\n",
              "    <tr>\n",
              "      <th>2</th>\n",
              "      <td>167416</td>\n",
              "      <td>سصر مصطفى أغاريد</td>\n",
              "      <td>0.0</td>\n",
              "    </tr>\n",
              "    <tr>\n",
              "      <th>3</th>\n",
              "      <td>59137</td>\n",
              "      <td>أمينة رمزي مدلج</td>\n",
              "      <td>1.0</td>\n",
              "    </tr>\n",
              "    <tr>\n",
              "      <th>4</th>\n",
              "      <td>132777</td>\n",
              "      <td>عبدالمغعم فائقة رائد</td>\n",
              "      <td>0.0</td>\n",
              "    </tr>\n",
              "  </tbody>\n",
              "</table>\n",
              "</div>\n",
              "      <button class=\"colab-df-convert\" onclick=\"convertToInteractive('df-bb6d8212-e8c7-4bdb-9b3f-26717837c573')\"\n",
              "              title=\"Convert this dataframe to an interactive table.\"\n",
              "              style=\"display:none;\">\n",
              "        \n",
              "  <svg xmlns=\"http://www.w3.org/2000/svg\" height=\"24px\"viewBox=\"0 0 24 24\"\n",
              "       width=\"24px\">\n",
              "    <path d=\"M0 0h24v24H0V0z\" fill=\"none\"/>\n",
              "    <path d=\"M18.56 5.44l.94 2.06.94-2.06 2.06-.94-2.06-.94-.94-2.06-.94 2.06-2.06.94zm-11 1L8.5 8.5l.94-2.06 2.06-.94-2.06-.94L8.5 2.5l-.94 2.06-2.06.94zm10 10l.94 2.06.94-2.06 2.06-.94-2.06-.94-.94-2.06-.94 2.06-2.06.94z\"/><path d=\"M17.41 7.96l-1.37-1.37c-.4-.4-.92-.59-1.43-.59-.52 0-1.04.2-1.43.59L10.3 9.45l-7.72 7.72c-.78.78-.78 2.05 0 2.83L4 21.41c.39.39.9.59 1.41.59.51 0 1.02-.2 1.41-.59l7.78-7.78 2.81-2.81c.8-.78.8-2.07 0-2.86zM5.41 20L4 18.59l7.72-7.72 1.47 1.35L5.41 20z\"/>\n",
              "  </svg>\n",
              "      </button>\n",
              "      \n",
              "  <style>\n",
              "    .colab-df-container {\n",
              "      display:flex;\n",
              "      flex-wrap:wrap;\n",
              "      gap: 12px;\n",
              "    }\n",
              "\n",
              "    .colab-df-convert {\n",
              "      background-color: #E8F0FE;\n",
              "      border: none;\n",
              "      border-radius: 50%;\n",
              "      cursor: pointer;\n",
              "      display: none;\n",
              "      fill: #1967D2;\n",
              "      height: 32px;\n",
              "      padding: 0 0 0 0;\n",
              "      width: 32px;\n",
              "    }\n",
              "\n",
              "    .colab-df-convert:hover {\n",
              "      background-color: #E2EBFA;\n",
              "      box-shadow: 0px 1px 2px rgba(60, 64, 67, 0.3), 0px 1px 3px 1px rgba(60, 64, 67, 0.15);\n",
              "      fill: #174EA6;\n",
              "    }\n",
              "\n",
              "    [theme=dark] .colab-df-convert {\n",
              "      background-color: #3B4455;\n",
              "      fill: #D2E3FC;\n",
              "    }\n",
              "\n",
              "    [theme=dark] .colab-df-convert:hover {\n",
              "      background-color: #434B5C;\n",
              "      box-shadow: 0px 1px 3px 1px rgba(0, 0, 0, 0.15);\n",
              "      filter: drop-shadow(0px 1px 2px rgba(0, 0, 0, 0.3));\n",
              "      fill: #FFFFFF;\n",
              "    }\n",
              "  </style>\n",
              "\n",
              "      <script>\n",
              "        const buttonEl =\n",
              "          document.querySelector('#df-bb6d8212-e8c7-4bdb-9b3f-26717837c573 button.colab-df-convert');\n",
              "        buttonEl.style.display =\n",
              "          google.colab.kernel.accessAllowed ? 'block' : 'none';\n",
              "\n",
              "        async function convertToInteractive(key) {\n",
              "          const element = document.querySelector('#df-bb6d8212-e8c7-4bdb-9b3f-26717837c573');\n",
              "          const dataTable =\n",
              "            await google.colab.kernel.invokeFunction('convertToInteractive',\n",
              "                                                     [key], {});\n",
              "          if (!dataTable) return;\n",
              "\n",
              "          const docLinkHtml = 'Like what you see? Visit the ' +\n",
              "            '<a target=\"_blank\" href=https://colab.research.google.com/notebooks/data_table.ipynb>data table notebook</a>'\n",
              "            + ' to learn more about interactive tables.';\n",
              "          element.innerHTML = '';\n",
              "          dataTable['output_type'] = 'display_data';\n",
              "          await google.colab.output.renderOutput(dataTable, element);\n",
              "          const docLink = document.createElement('div');\n",
              "          docLink.innerHTML = docLinkHtml;\n",
              "          element.appendChild(docLink);\n",
              "        }\n",
              "      </script>\n",
              "    </div>\n",
              "  </div>\n",
              "  "
            ],
            "text/plain": [
              "   Unnamed: 0                  name  status\n",
              "0      118425   أسارير اعتماد رصينة     0.0\n",
              "1      109231       سامح مزتور شروق     0.0\n",
              "2      167416      سصر مصطفى أغاريد     0.0\n",
              "3       59137       أمينة رمزي مدلج     1.0\n",
              "4      132777  عبدالمغعم فائقة رائد     0.0"
            ]
          },
          "execution_count": 6,
          "metadata": {},
          "output_type": "execute_result"
        }
      ],
      "source": [
        "data = pd.read_csv('../Data/final_names.csv')\n",
        "data.head()"
      ]
    },
    {
      "cell_type": "code",
      "execution_count": 7,
      "metadata": {
        "colab": {
          "base_uri": "https://localhost:8080/"
        },
        "id": "4qNrlnoS79rj",
        "outputId": "0e3a8db2-9e75-4d5f-c7a8-f2c388b94c55"
      },
      "outputs": [
        {
          "data": {
            "text/plain": [
              "(197626, 3)"
            ]
          },
          "execution_count": 7,
          "metadata": {},
          "output_type": "execute_result"
        }
      ],
      "source": [
        "data.shape"
      ]
    },
    {
      "cell_type": "code",
      "execution_count": 8,
      "metadata": {
        "id": "NdUYFyMJ8BPK"
      },
      "outputs": [],
      "source": [
        "x= data['name']\n",
        "y=data['status']\n",
        "X_train, X_test, y_train, y_test = train_test_split(x, y, test_size=0.20, random_state=1000)"
      ]
    },
    {
      "cell_type": "code",
      "execution_count": 9,
      "metadata": {
        "id": "05gGaWb_8E87"
      },
      "outputs": [],
      "source": [
        "tok = Tokenizer(oov_token=\"<OOV>\")\n",
        "#fit the data on the text\n",
        "tok.fit_on_texts(x)\n",
        "# Tokenize the data \n",
        "X_train_tokenized = tok.texts_to_sequences(X_train)\n",
        "X_test_tokenized = tok.texts_to_sequences(X_test)\n",
        "# add one for the oov token \n",
        "vocab_size = len(tok.word_index) + 1  \n",
        "\n",
        "max_len = 3\n",
        "embdding_dim=20"
      ]
    },
    {
      "cell_type": "code",
      "execution_count": 64,
      "metadata": {
        "colab": {
          "base_uri": "https://localhost:8080/"
        },
        "id": "5QuFwwnZOqfq",
        "outputId": "95b4cc5a-6fc9-475a-bb54-8dc0557248a2"
      },
      "outputs": [
        {
          "name": "stdout",
          "output_type": "stream",
          "text": [
            "20\n"
          ]
        }
      ],
      "source": [
        "# print(embdding_dim)"
      ]
    },
    {
      "cell_type": "code",
      "execution_count": 10,
      "metadata": {
        "id": "V2MYSmg68JNs"
      },
      "outputs": [],
      "source": [
        "X_train = pad_sequences(X_train_tokenized, padding='post',maxlen=max_len,truncating='post')\n",
        "X_test = pad_sequences(X_test_tokenized, padding='post', maxlen=max_len,truncating='post')"
      ]
    },
    {
      "cell_type": "code",
      "execution_count": 11,
      "metadata": {
        "colab": {
          "base_uri": "https://localhost:8080/"
        },
        "id": "x5OAFapP8LuH",
        "outputId": "514a4c5b-073c-42eb-e5b6-12029828346b"
      },
      "outputs": [
        {
          "name": "stderr",
          "output_type": "stream",
          "text": [
            "WARNING:tensorflow:Layer lstm will not use cuDNN kernels since it doesn't meet the criteria. It will use a generic GPU kernel as fallback when running on GPU.\n"
          ]
        }
      ],
      "source": [
        "dropout=0.4\n",
        "model = Sequential()\n",
        "model.add(layers.Embedding(input_dim=vocab_size,output_dim=embdding_dim,input_length=max_len))\n",
        "model.add(LSTM(128, activation='relu'))\n",
        "model.add(layers.Flatten())\n",
        "model.add(layers.Dense(64, activation='relu'))\n",
        "model.add(layers.Dropout(dropout))\n",
        "model.add(layers.Dense(32, activation='relu'))\n",
        "model.add(layers.Dense(1, activation='sigmoid'))"
      ]
    },
    {
      "cell_type": "code",
      "execution_count": 12,
      "metadata": {
        "colab": {
          "base_uri": "https://localhost:8080/"
        },
        "id": "srBJ4MJO8NZR",
        "outputId": "00d7f56b-7bc9-47ce-b339-54add26ca94d"
      },
      "outputs": [
        {
          "name": "stdout",
          "output_type": "stream",
          "text": [
            "Model: \"sequential\"\n",
            "_________________________________________________________________\n",
            " Layer (type)                Output Shape              Param #   \n",
            "=================================================================\n",
            " embedding (Embedding)       (None, 3, 20)             873440    \n",
            "                                                                 \n",
            " lstm (LSTM)                 (None, 128)               76288     \n",
            "                                                                 \n",
            " flatten (Flatten)           (None, 128)               0         \n",
            "                                                                 \n",
            " dense (Dense)               (None, 64)                8256      \n",
            "                                                                 \n",
            " dropout (Dropout)           (None, 64)                0         \n",
            "                                                                 \n",
            " dense_1 (Dense)             (None, 32)                2080      \n",
            "                                                                 \n",
            " dense_2 (Dense)             (None, 1)                 33        \n",
            "                                                                 \n",
            "=================================================================\n",
            "Total params: 960,097\n",
            "Trainable params: 960,097\n",
            "Non-trainable params: 0\n",
            "_________________________________________________________________\n"
          ]
        }
      ],
      "source": [
        "model.summary()"
      ]
    },
    {
      "cell_type": "code",
      "execution_count": 13,
      "metadata": {
        "id": "SjxYsv218PVr"
      },
      "outputs": [],
      "source": [
        "model_checkpoint_callback = keras.callbacks.ModelCheckpoint(\n",
        "    save_weights_only=False,\n",
        "    monitor='val_loss',\n",
        "    save_best_only=True,\n",
        "    filepath= 'model.h5')\n",
        "\n",
        "model.compile(optimizer='adam',\n",
        "              loss='binary_crossentropy',\n",
        "              metrics=['accuracy'])\n"
      ]
    },
    {
      "cell_type": "code",
      "execution_count": 17,
      "metadata": {
        "colab": {
          "base_uri": "https://localhost:8080/"
        },
        "id": "yi9yNEoW8R1p",
        "outputId": "fc9ddce7-e007-4a7e-a38a-2d35d93fb6cc"
      },
      "outputs": [
        {
          "name": "stdout",
          "output_type": "stream",
          "text": [
            "Epoch 1/20\n",
            "4941/4941 [==============================] - 62s 12ms/step - loss: 0.1772 - accuracy: 0.9304 - val_loss: 0.1134 - val_accuracy: 0.9579\n",
            "Epoch 2/20\n",
            "4941/4941 [==============================] - 57s 11ms/step - loss: 0.1058 - accuracy: 0.9575 - val_loss: 0.1071 - val_accuracy: 0.9587\n",
            "Epoch 3/20\n",
            "4941/4941 [==============================] - 58s 12ms/step - loss: 0.0946 - accuracy: 0.9588 - val_loss: 0.1045 - val_accuracy: 0.9588\n",
            "Epoch 4/20\n",
            "4941/4941 [==============================] - 56s 11ms/step - loss: 0.0900 - accuracy: 0.9592 - val_loss: 0.1144 - val_accuracy: 0.9550\n",
            "Epoch 5/20\n",
            "4941/4941 [==============================] - 57s 12ms/step - loss: 0.0874 - accuracy: 0.9593 - val_loss: 0.1232 - val_accuracy: 0.9524\n",
            "Epoch 6/20\n",
            "4941/4941 [==============================] - 56s 11ms/step - loss: 0.0847 - accuracy: 0.9597 - val_loss: 0.1083 - val_accuracy: 0.9580\n",
            "Epoch 7/20\n",
            "4941/4941 [==============================] - 55s 11ms/step - loss: 0.0822 - accuracy: 0.9601 - val_loss: 0.1319 - val_accuracy: 0.9539\n",
            "Epoch 8/20\n",
            "4941/4941 [==============================] - 58s 12ms/step - loss: 0.0802 - accuracy: 0.9606 - val_loss: 0.1464 - val_accuracy: 0.9469\n",
            "Epoch 9/20\n",
            "4941/4941 [==============================] - 58s 12ms/step - loss: 0.0782 - accuracy: 0.9610 - val_loss: 0.1390 - val_accuracy: 0.9493\n",
            "Epoch 10/20\n",
            "4941/4941 [==============================] - 56s 11ms/step - loss: 0.0758 - accuracy: 0.9613 - val_loss: 0.1564 - val_accuracy: 0.9474\n",
            "Epoch 11/20\n",
            "4941/4941 [==============================] - 59s 12ms/step - loss: 0.0741 - accuracy: 0.9616 - val_loss: 0.1696 - val_accuracy: 0.9428\n",
            "Epoch 12/20\n",
            "4941/4941 [==============================] - 54s 11ms/step - loss: 0.0717 - accuracy: 0.9623 - val_loss: 0.1754 - val_accuracy: 0.9464\n",
            "Epoch 13/20\n",
            "4941/4941 [==============================] - 55s 11ms/step - loss: 0.0699 - accuracy: 0.9628 - val_loss: 0.2321 - val_accuracy: 0.9421\n",
            "Epoch 14/20\n",
            "4941/4941 [==============================] - 56s 11ms/step - loss: 0.0676 - accuracy: 0.9636 - val_loss: 0.1979 - val_accuracy: 0.9497\n",
            "Epoch 15/20\n",
            "4941/4941 [==============================] - 57s 11ms/step - loss: 0.0652 - accuracy: 0.9645 - val_loss: 0.2143 - val_accuracy: 0.9433\n",
            "Epoch 16/20\n",
            "4941/4941 [==============================] - 56s 11ms/step - loss: 0.0629 - accuracy: 0.9657 - val_loss: 0.2283 - val_accuracy: 0.9400\n",
            "Epoch 17/20\n",
            "4941/4941 [==============================] - 57s 11ms/step - loss: 0.0606 - accuracy: 0.9670 - val_loss: 0.2890 - val_accuracy: 0.9342\n",
            "Epoch 18/20\n",
            "4941/4941 [==============================] - 57s 12ms/step - loss: 0.0577 - accuracy: 0.9693 - val_loss: 0.2967 - val_accuracy: 0.9353\n",
            "Epoch 19/20\n",
            "4941/4941 [==============================] - 58s 12ms/step - loss: 0.0557 - accuracy: 0.9704 - val_loss: 0.2675 - val_accuracy: 0.9348\n",
            "Epoch 20/20\n",
            "4941/4941 [==============================] - 58s 12ms/step - loss: 0.0535 - accuracy: 0.9720 - val_loss: 0.2863 - val_accuracy: 0.9291\n",
            "Training Accuracy: 0.9783\n",
            "Testing Accuracy:  0.9291\n"
          ]
        }
      ],
      "source": [
        "history = model.fit(X_train, y_train,\n",
        "                    epochs=20,\n",
        "                    validation_data=(X_test, y_test),\n",
        "                    batch_size=32,\n",
        "                    callbacks=[model_checkpoint_callback])\n",
        "loss, accuracy = model.evaluate(X_train, y_train, verbose=False)\n",
        "print(\"Training Accuracy: {:.4f}\".format(accuracy))\n",
        "loss, accuracy = model.evaluate(X_test, y_test, verbose=False)\n",
        "print(\"Testing Accuracy:  {:.4f}\".format(accuracy))"
      ]
    },
    {
      "cell_type": "code",
      "execution_count": 71,
      "metadata": {
        "id": "5TGNHo8oIwsF"
      },
      "outputs": [],
      "source": [
        "# import re \n",
        "# def normalize_arabic(text):\n",
        "#     text = re.sub(\"[إأآا]\", \"ا\", text)\n",
        "#     text = re.sub(\"ى\", \"ي\", text)\n",
        "#     text = re.sub(\"ة\", \"ه\", text)\n",
        "#     text = re.sub(\"گ\", \"ك\", text)\n",
        "#     return text"
      ]
    },
    {
      "cell_type": "markdown",
      "metadata": {
        "id": "kolHSi6zkVMR"
      },
      "source": [
        "# test the model before saving it "
      ]
    },
    {
      "cell_type": "code",
      "execution_count": 78,
      "metadata": {
        "colab": {
          "base_uri": "https://localhost:8080/"
        },
        "id": "M__L7P-I8UPt",
        "outputId": "4470f863-137b-407b-e2bd-d7130be5bde8"
      },
      "outputs": [
        {
          "data": {
            "text/plain": [
              "array([[569, 170, 318]], dtype=int32)"
            ]
          },
          "execution_count": 78,
          "metadata": {},
          "output_type": "execute_result"
        }
      ],
      "source": [
        "name = ['ياسمين أحمد محمود']\n",
        "one = tok.texts_to_sequences(name)\n",
        "y = pad_sequences(one, padding='post',maxlen=3,truncating='post')\n",
        "y"
      ]
    },
    {
      "cell_type": "code",
      "execution_count": 79,
      "metadata": {
        "colab": {
          "base_uri": "https://localhost:8080/"
        },
        "id": "g6o0kGU4ftD9",
        "outputId": "17cde74f-7526-469c-a835-38625c82d75d"
      },
      "outputs": [
        {
          "name": "stdout",
          "output_type": "stream",
          "text": [
            "1/1 [==============================] - 0s 19ms/step\n"
          ]
        },
        {
          "data": {
            "text/plain": [
              "array([[0.3930118]], dtype=float32)"
            ]
          },
          "execution_count": 79,
          "metadata": {},
          "output_type": "execute_result"
        }
      ],
      "source": [
        "model.predict(y)"
      ]
    },
    {
      "cell_type": "markdown",
      "metadata": {
        "id": "NChiU1g8kfYj"
      },
      "source": [
        "# save the tokenizer into pickle file "
      ]
    },
    {
      "cell_type": "code",
      "execution_count": 33,
      "metadata": {
        "id": "7tnoKoTvF64_"
      },
      "outputs": [],
      "source": [
        "import pickle\n",
        "\n",
        "# saving\n",
        "with open('tokenizer.pickle', 'wb') as handle:\n",
        "    pickle.dump(tok, handle)"
      ]
    },
    {
      "cell_type": "code",
      "execution_count": null,
      "metadata": {
        "id": "Hcsk90AIkl5P"
      },
      "outputs": [],
      "source": [
        "# model.save('name.h5')"
      ]
    },
    {
      "cell_type": "markdown",
      "metadata": {
        "id": "_57FYjo5knjE"
      },
      "source": [
        "# Retest the model "
      ]
    },
    {
      "cell_type": "code",
      "execution_count": 40,
      "metadata": {
        "id": "fuiPffz0f4_l"
      },
      "outputs": [],
      "source": [
        "# loading\n",
        "with open('tokenizer.pickle', 'rb') as handle:\n",
        "    tokenizer_1 = pickle.load(handle)"
      ]
    },
    {
      "cell_type": "code",
      "execution_count": 43,
      "metadata": {
        "colab": {
          "base_uri": "https://localhost:8080/"
        },
        "id": "xLAcwvSbh0Dj",
        "outputId": "918698e7-02f7-4d37-8c82-f119a0d93773"
      },
      "outputs": [
        {
          "name": "stderr",
          "output_type": "stream",
          "text": [
            "WARNING:tensorflow:Layer lstm will not use cuDNN kernels since it doesn't meet the criteria. It will use a generic GPU kernel as fallback when running on GPU.\n"
          ]
        }
      ],
      "source": [
        "my_model = keras.models.load_model('name.h5')"
      ]
    },
    {
      "cell_type": "code",
      "execution_count": 80,
      "metadata": {
        "colab": {
          "base_uri": "https://localhost:8080/"
        },
        "id": "6iTTXJoxf8yf",
        "outputId": "65c3368e-0d29-4882-b81d-8757b8bd1630"
      },
      "outputs": [
        {
          "data": {
            "text/plain": [
              "array([[520, 170, 318]], dtype=int32)"
            ]
          },
          "execution_count": 80,
          "metadata": {},
          "output_type": "execute_result"
        }
      ],
      "source": [
        "testing = ['محمد أحمد محمود']\n",
        "test1= tokenizer_1.texts_to_sequences(testing)\n",
        "test = pad_sequences(test1, padding='post',maxlen=3,truncating='post')\n",
        "test"
      ]
    },
    {
      "cell_type": "code",
      "execution_count": 81,
      "metadata": {
        "colab": {
          "base_uri": "https://localhost:8080/"
        },
        "id": "awrWy4q2Oe8i",
        "outputId": "4af7b929-d812-4b96-c2d1-a92db26fce51"
      },
      "outputs": [
        {
          "name": "stdout",
          "output_type": "stream",
          "text": [
            "1/1 [==============================] - 0s 17ms/step\n"
          ]
        },
        {
          "data": {
            "text/plain": [
              "array([[0.78517634]], dtype=float32)"
            ]
          },
          "execution_count": 81,
          "metadata": {},
          "output_type": "execute_result"
        }
      ],
      "source": [
        "my_model.predict(test)"
      ]
    },
    {
      "cell_type": "code",
      "execution_count": 82,
      "metadata": {
        "colab": {
          "base_uri": "https://localhost:8080/"
        },
        "id": "RfdzJ7ucOlTl",
        "outputId": "1950bad4-a669-4987-dd27-7a052fa38aee"
      },
      "outputs": [
        {
          "data": {
            "text/plain": [
              "array([[520,   1, 318]], dtype=int32)"
            ]
          },
          "execution_count": 82,
          "metadata": {},
          "output_type": "execute_result"
        }
      ],
      "source": [
        "testing = ['محمد احمد محمود']\n",
        "test1= tokenizer_1.texts_to_sequences(testing)\n",
        "test = pad_sequences(test1, padding='post',maxlen=3,truncating='post')\n",
        "test"
      ]
    },
    {
      "cell_type": "code",
      "execution_count": 83,
      "metadata": {
        "colab": {
          "base_uri": "https://localhost:8080/"
        },
        "id": "d4vyDILFha4E",
        "outputId": "3212866b-a714-4291-df54-9b9d23e1cfca"
      },
      "outputs": [
        {
          "name": "stdout",
          "output_type": "stream",
          "text": [
            "1/1 [==============================] - 0s 17ms/step\n"
          ]
        },
        {
          "data": {
            "text/plain": [
              "array([[0.07445119]], dtype=float32)"
            ]
          },
          "execution_count": 83,
          "metadata": {},
          "output_type": "execute_result"
        }
      ],
      "source": [
        "my_model.predict(test)"
      ]
    },
    {
      "cell_type": "code",
      "execution_count": null,
      "metadata": {
        "id": "c5pf4sdfk-UI"
      },
      "outputs": [],
      "source": []
    }
  ],
  "metadata": {
    "accelerator": "GPU",
    "colab": {
      "provenance": []
    },
    "gpuClass": "standard",
    "kernelspec": {
      "display_name": "Python 3.8.0 64-bit",
      "language": "python",
      "name": "python3"
    },
    "language_info": {
      "name": "python",
      "version": "3.8.0"
    },
    "vscode": {
      "interpreter": {
        "hash": "be6b9f10d78d9b557738f314303d3c0771f26fc553d4c00ecc19976a1c147bdb"
      }
    }
  },
  "nbformat": 4,
  "nbformat_minor": 0
}
